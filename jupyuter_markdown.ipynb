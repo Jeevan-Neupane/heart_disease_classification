{
 "cells": [
  {
   "cell_type": "markdown",
   "id": "f8c81144-d7b0-4897-acf8-35ef3fd7bace",
   "metadata": {},
   "source": [
    "# Header 1\n",
    "## Header 2\n",
    "### Header 3\n",
    "#### Header 4\n",
    "##### Header 5\n",
    "###### Header 6\n"
   ]
  },
  {
   "cell_type": "markdown",
   "id": "378cc9e8-4cec-42a5-a96f-690e2593291c",
   "metadata": {},
   "source": [
    "## Blackquotes"
   ]
  },
  {
   "cell_type": "markdown",
   "id": "8610f8fe-ff3d-4875-a0e9-8c529a6fb675",
   "metadata": {},
   "source": [
    ">This can hold large number of text "
   ]
  },
  {
   "cell_type": "markdown",
   "id": "b78356be-9580-48ca-aa65-15d2dd14f512",
   "metadata": {},
   "source": [
    "> Nepal officially the Federal Democratic Republic of Nepal,[b] is a landlocked country in South Asia. It is mainly situated in the Himalayas, but also includes parts of the Indo-Gangetic Plain. It borders the Tibet Autonomous Region of China to the north, and India to the south, east, and west, while it is narrowly separated from Bangladesh by the Siliguri Corridor, and from Bhutan by the Indian state of Sikkim. Nepal has a diverse geography, including fertile plains, subalpine forested hills, and eight of the world's ten tallest mountains, including Mount Everest, the highest point on Earth. Kathmandu is the nation's capital and the largest city. Nepal is a multi-ethnic, multi-lingual, multi-religious and multi-cultural state, with Nepali as the official language.\n",
    "\n"
   ]
  },
  {
   "cell_type": "markdown",
   "id": "36aa8163-90ad-4002-b2aa-be824fce85f8",
   "metadata": {},
   "source": [
    "## Code Section"
   ]
  },
  {
   "cell_type": "markdown",
   "id": "86ea744b-9ae1-4fc6-a5b4-368cb57429d4",
   "metadata": {},
   "source": [
    "`x=5`"
   ]
  },
  {
   "cell_type": "markdown",
   "id": "7ef86aae-d0ac-4a2d-a9e5-77f30fb58506",
   "metadata": {},
   "source": [
    "'`x=5`'"
   ]
  },
  {
   "cell_type": "markdown",
   "id": "6f59688b-2ce3-40e6-917c-611eae741d84",
   "metadata": {},
   "source": [
    "```Javascript\n",
    "str= \"This si block level code\"\n",
    "print(str)\n",
    "```"
   ]
  },
  {
   "cell_type": "markdown",
   "id": "9f041c28-9199-4e37-b0d0-07b837376be7",
   "metadata": {},
   "source": [
    "## Mathematical Operator "
   ]
  },
  {
   "cell_type": "markdown",
   "id": "6db10e11-2459-45d0-af47-44123dc89c45",
   "metadata": {},
   "source": [
    "\\$\\sqrt{K}\\$"
   ]
  },
  {
   "cell_type": "markdown",
   "id": "c047c95b-225b-4468-9065-a2e8b2f6d191",
   "metadata": {},
   "source": [
    "## Line Break"
   ]
  },
  {
   "cell_type": "markdown",
   "id": "120a3c9d-dfd1-46c5-acd0-b394dd0d4f71",
   "metadata": {},
   "source": [
    "Hello Jeevan Brother <br> This is bad"
   ]
  },
  {
   "cell_type": "markdown",
   "id": "aafb7a8b-758d-4b23-a481-65b7eb4b8872",
   "metadata": {},
   "source": [
    "## Bold and Italic Text "
   ]
  },
  {
   "cell_type": "markdown",
   "id": "0915af2c-4d8e-44f7-91e5-37b4acaafff2",
   "metadata": {},
   "source": [
    "**This is bold**<br>\n",
    "__This is also bold__"
   ]
  },
  {
   "cell_type": "markdown",
   "id": "fa203851-435d-40f3-997e-a5ea97f216e0",
   "metadata": {},
   "source": [
    "*This is italic* <br>\n",
    "_This is italic too_"
   ]
  },
  {
   "cell_type": "markdown",
   "id": "c27f8098-15ec-43d8-8ecc-bf3eb3dbb61a",
   "metadata": {},
   "source": [
    "## Horizontal Line"
   ]
  },
  {
   "cell_type": "markdown",
   "id": "cbee13f7-5d36-424c-8053-ddd128fa0723",
   "metadata": {},
   "source": [
    "___"
   ]
  },
  {
   "cell_type": "markdown",
   "id": "74c75da2-2131-4b89-96ad-1f23d0a4e7a0",
   "metadata": {},
   "source": [
    "<hr>"
   ]
  },
  {
   "cell_type": "markdown",
   "id": "be8441c9-55fa-4e6d-97da-04a2e8b0fb5b",
   "metadata": {},
   "source": [
    "## Lists\n"
   ]
  },
  {
   "cell_type": "markdown",
   "id": "e359c7ba-c1a5-4130-b58e-4f9a9ad4e1b1",
   "metadata": {},
   "source": [
    "1. Fish\n",
    "2. Cheese \n",
    "3. Eggs"
   ]
  },
  {
   "cell_type": "markdown",
   "id": "b8d9a76d-87e1-4cd2-aa9b-9fcb8899ec60",
   "metadata": {},
   "source": [
    "- Fish\n",
    "- Cheese"
   ]
  },
  {
   "cell_type": "markdown",
   "id": "8ecd4c88-f0db-4206-8026-bd7be881236e",
   "metadata": {},
   "source": [
    "## Internal and External Links"
   ]
  },
  {
   "cell_type": "markdown",
   "id": "5d0eb235-c8c2-4763-95eb-f2e89a160aed",
   "metadata": {},
   "source": [
    "<a id=\"#\"> Internal Link</a>"
   ]
  },
  {
   "cell_type": "markdown",
   "id": "d021f32c-7d8c-4279-9c86-739be59999ff",
   "metadata": {},
   "source": [
    "<a href=\"goole.com\"> Link To External </a>"
   ]
  },
  {
   "cell_type": "markdown",
   "id": "ecc79849-8c16-4f39-b039-0b6dd83081b8",
   "metadata": {},
   "source": [
    "## Table "
   ]
  },
  {
   "cell_type": "markdown",
   "id": "75757fbb-f04c-419c-91e0-bde62a99a5ad",
   "metadata": {},
   "source": [
    "<table style=\"width:80%\">\n",
    "    <tr>\n",
    "        <th>Name</th>\n",
    "        <th>Address</th>\n",
    "        <th>Salary</th>\n",
    "    </tr>\n",
    "    <tr>\n",
    "        <td>Jeevan</td>\n",
    "        <td>Ktm</td>\n",
    "        <td>4.5M</td>\n",
    "    </tr>\n",
    "</table>"
   ]
  },
  {
   "cell_type": "markdown",
   "id": "00f74f13-a603-4d66-8322-94e12ce38cde",
   "metadata": {},
   "source": [
    "## Image"
   ]
  },
  {
   "cell_type": "markdown",
   "id": "c1c23545-8b02-45bc-8f36-3a2c74ac4788",
   "metadata": {},
   "source": [
    "<img src=\"me.jpg\" alt=\"Python Logo\" width=\"300\" height=\"200\">\n"
   ]
  }
 ],
 "metadata": {
  "kernelspec": {
   "display_name": "Python 3 (ipykernel)",
   "language": "python",
   "name": "python3"
  },
  "language_info": {
   "codemirror_mode": {
    "name": "ipython",
    "version": 3
   },
   "file_extension": ".py",
   "mimetype": "text/x-python",
   "name": "python",
   "nbconvert_exporter": "python",
   "pygments_lexer": "ipython3",
   "version": "3.8.20"
  }
 },
 "nbformat": 4,
 "nbformat_minor": 5
}
